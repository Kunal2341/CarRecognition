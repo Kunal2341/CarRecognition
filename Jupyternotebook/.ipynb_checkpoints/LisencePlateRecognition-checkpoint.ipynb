{
 "cells": [
  {
   "cell_type": "markdown",
   "metadata": {},
   "source": [
    "# Import and file location"
   ]
  },
  {
   "cell_type": "code",
   "execution_count": 1,
   "metadata": {},
   "outputs": [
    {
     "data": {
      "text/plain": [
       "'from sklearn.preprocessing import OneHotEncoder\\nfrom keras.models import Sequential\\nfrom keras.layers import Dense, Conv2D, MaxPooling2D, Dropout, Flatten\\nfrom sklearn.model_selection import train_test_split\\nfrom keras.utils.vis_utils import plot_model\\nimport matplotlib.pyplot as plt'"
      ]
     },
     "execution_count": 1,
     "metadata": {},
     "output_type": "execute_result"
    }
   ],
   "source": [
    "import pandas as pd\n",
    "import numpy as np\n",
    "import cv2\n",
    "import os\n",
    "import pickle\n",
    "\n",
    "\"\"\"from sklearn.preprocessing import OneHotEncoder\n",
    "from keras.models import Sequential\n",
    "from keras.layers import Dense, Conv2D, MaxPooling2D, Dropout, Flatten\n",
    "from sklearn.model_selection import train_test_split\n",
    "from keras.utils.vis_utils import plot_model\n",
    "import matplotlib.pyplot as plt\"\"\"\n"
   ]
  },
  {
   "cell_type": "code",
   "execution_count": 2,
   "metadata": {},
   "outputs": [],
   "source": [
    "from sklearn.model_selection import train_test_split\n",
    "from sklearn.preprocessing import OneHotEncoder\n"
   ]
  },
  {
   "cell_type": "code",
   "execution_count": 3,
   "metadata": {},
   "outputs": [
    {
     "name": "stderr",
     "output_type": "stream",
     "text": [
      "Using TensorFlow backend.\n"
     ]
    }
   ],
   "source": [
    "from keras.models import Sequential, load_model\n"
   ]
  },
  {
   "cell_type": "code",
   "execution_count": 4,
   "metadata": {},
   "outputs": [],
   "source": [
    "from keras.layers import Dense, Conv2D, MaxPooling2D, Dropout, Flatten\n"
   ]
  },
  {
   "cell_type": "code",
   "execution_count": 5,
   "metadata": {},
   "outputs": [],
   "source": [
    "os.chdir(\"/Users/kunal/Documents/Cardetection/RecognizeLisencePlate/\")"
   ]
  },
  {
   "cell_type": "code",
   "execution_count": 6,
   "metadata": {},
   "outputs": [],
   "source": [
    "from matplotlib import pyplot as plt\n",
    "from digits import plate_segmentation"
   ]
  },
  {
   "cell_type": "markdown",
   "metadata": {},
   "source": [
    "# Create the DataSet"
   ]
  },
  {
   "cell_type": "markdown",
   "metadata": {},
   "source": [
    "## Basics"
   ]
  },
  {
   "cell_type": "code",
   "execution_count": 7,
   "metadata": {},
   "outputs": [],
   "source": [
    "# List of images\n",
    "data = []\n",
    "# List of labels\n",
    "labels = []"
   ]
  },
  {
   "cell_type": "code",
   "execution_count": 26,
   "metadata": {},
   "outputs": [],
   "source": [
    "input_path = '/Users/kunal/Documents/Cardetection/dataset'"
   ]
  },
  {
   "cell_type": "markdown",
   "metadata": {},
   "source": [
    "## Load all directory"
   ]
  },
  {
   "cell_type": "code",
   "execution_count": 27,
   "metadata": {},
   "outputs": [
    {
     "name": "stdout",
     "output_type": "stream",
     "text": [
      " Class : \t \t 0\n"
     ]
    },
    {
     "ename": "KeyboardInterrupt",
     "evalue": "",
     "output_type": "error",
     "traceback": [
      "\u001b[1;31m---------------------------------------------------------------------------\u001b[0m",
      "\u001b[1;31mKeyboardInterrupt\u001b[0m                         Traceback (most recent call last)",
      "\u001b[1;32m<ipython-input-27-dd93c9c6047a>\u001b[0m in \u001b[0;36m<module>\u001b[1;34m\u001b[0m\n\u001b[0;32m      7\u001b[0m             \u001b[1;31m# Make sure that our file is text\u001b[0m\u001b[1;33m\u001b[0m\u001b[1;33m\u001b[0m\u001b[1;33m\u001b[0m\u001b[0m\n\u001b[0;32m      8\u001b[0m             \u001b[1;32mif\u001b[0m \u001b[0mfilename\u001b[0m\u001b[1;33m.\u001b[0m\u001b[0mendswith\u001b[0m\u001b[1;33m(\u001b[0m\u001b[1;34m'.jpg'\u001b[0m\u001b[1;33m)\u001b[0m\u001b[1;33m:\u001b[0m\u001b[1;33m\u001b[0m\u001b[1;33m\u001b[0m\u001b[0m\n\u001b[1;32m----> 9\u001b[1;33m                 \u001b[0mimg\u001b[0m \u001b[1;33m=\u001b[0m \u001b[0mcv2\u001b[0m\u001b[1;33m.\u001b[0m\u001b[0mimread\u001b[0m\u001b[1;33m(\u001b[0m\u001b[0minput_path\u001b[0m \u001b[1;33m+\u001b[0m \u001b[1;34m\"/\"\u001b[0m \u001b[1;33m+\u001b[0m \u001b[0mdir\u001b[0m \u001b[1;33m+\u001b[0m \u001b[1;34m\"/\"\u001b[0m \u001b[1;33m+\u001b[0m \u001b[0mfilename\u001b[0m\u001b[1;33m)\u001b[0m\u001b[1;33m\u001b[0m\u001b[1;33m\u001b[0m\u001b[0m\n\u001b[0m\u001b[0;32m     10\u001b[0m                 \u001b[0mgray\u001b[0m \u001b[1;33m=\u001b[0m \u001b[0mcv2\u001b[0m\u001b[1;33m.\u001b[0m\u001b[0mcvtColor\u001b[0m\u001b[1;33m(\u001b[0m\u001b[0mimg\u001b[0m\u001b[1;33m,\u001b[0m \u001b[0mcv2\u001b[0m\u001b[1;33m.\u001b[0m\u001b[0mCOLOR_BGR2GRAY\u001b[0m\u001b[1;33m)\u001b[0m\u001b[1;33m\u001b[0m\u001b[1;33m\u001b[0m\u001b[0m\n\u001b[0;32m     11\u001b[0m                 \u001b[0mdata\u001b[0m\u001b[1;33m.\u001b[0m\u001b[0mappend\u001b[0m\u001b[1;33m(\u001b[0m\u001b[0mgray\u001b[0m\u001b[1;33m)\u001b[0m\u001b[1;33m\u001b[0m\u001b[1;33m\u001b[0m\u001b[0m\n",
      "\u001b[1;31mKeyboardInterrupt\u001b[0m: "
     ]
    }
   ],
   "source": [
    "for root, dirs, files in os.walk(input_path):\n",
    "    # Filter every folder\n",
    "    for dir in dirs:\n",
    "        print(\" Class : \\t \\t \" + dir)\n",
    "        # Filter all files in the directory\n",
    "        for filename in os.listdir(input_path + \"/\" + dir):\n",
    "            # Make sure that our file is text\n",
    "            if filename.endswith('.jpg'):\n",
    "                img = cv2.imread(input_path + \"/\" + dir + \"/\" + filename)\n",
    "                gray = cv2.cvtColor(img, cv2.COLOR_BGR2GRAY)\n",
    "                data.append(gray)\n",
    "                labels.append(dir)"
   ]
  },
  {
   "cell_type": "markdown",
   "metadata": {},
   "source": [
    "## Save test data and labels"
   ]
  },
  {
   "cell_type": "code",
   "execution_count": 6,
   "metadata": {},
   "outputs": [
    {
     "name": "stdout",
     "output_type": "stream",
     "text": [
      "Length data : 36576\n",
      "Length labels : 36576\n",
      "Processs finished !\n"
     ]
    }
   ],
   "source": [
    "pickle.dump(data, open(\"data.pickle\", \"wb\"))\n",
    "pickle.dump(labels, open(\"labels.pickle\", \"wb\"))\n",
    "\n",
    "print('Length data : ' + str(len(data)))\n",
    "print('Length labels : ' + str(len(labels)))\n",
    "print('Processs finished !')"
   ]
  },
  {
   "cell_type": "markdown",
   "metadata": {},
   "source": [
    "# Train the dataset"
   ]
  },
  {
   "cell_type": "code",
   "execution_count": 7,
   "metadata": {},
   "outputs": [],
   "source": [
    "# Import files"
   ]
  },
  {
   "cell_type": "markdown",
   "metadata": {},
   "source": [
    "## Load dataset and Create dictionary for alphabets and related numbers"
   ]
  },
  {
   "cell_type": "code",
   "execution_count": 8,
   "metadata": {},
   "outputs": [],
   "source": [
    "alphabets_dic = {0: 'A', 1: 'B', 2: 'C', 3: 'D', 4: 'E', 5: 'F', 6: 'G', 7: 'H', 8: 'I', 9: 'J',\n",
    "             10: 'K', 11: 'L', 12: 'M', 13: 'N', 14: 'O', 15: 'P', 16: 'Q', 17: 'R', 18: 'S', 19: 'T',\n",
    "             20: 'U', 21: 'V', 22: 'W', 23: 'X', 24: 'Y', 25: 'Z', 26: '0', 27: '1', 28: '2', 29:'3',\n",
    "             30: '4', 31: '5', 32: '6', 33: '7', 34: '8', 35: '9'}\n",
    "\n",
    "alphabets = ['0','1','2','3','4','5','6','7','8','9','A','B','C','D','E','F','G','H','I','J','K','L','M','N','O','P','Q','R','S','T','U','V','W','X','Y','Z']\n",
    "dataset_classes = []"
   ]
  },
  {
   "cell_type": "code",
   "execution_count": 9,
   "metadata": {},
   "outputs": [],
   "source": [
    "for cls in alphabets:\n",
    "    dataset_classes.append([cls])"
   ]
  },
  {
   "cell_type": "code",
   "execution_count": 10,
   "metadata": {},
   "outputs": [],
   "source": [
    "# Load old dataset\n",
    "d = open(\"data.pickle\",\"rb\")\n",
    "l = open(\"labels.pickle\",\"rb\")\n",
    "data = pickle.load(d)\n",
    "labels = pickle.load(l)"
   ]
  },
  {
   "cell_type": "code",
   "execution_count": 11,
   "metadata": {},
   "outputs": [],
   "source": [
    "label_list = []\n",
    "for l in labels:\n",
    "    label_list.append([l])"
   ]
  },
  {
   "cell_type": "markdown",
   "metadata": {},
   "source": [
    "## One hot encoding format for output\n"
   ]
  },
  {
   "cell_type": "code",
   "execution_count": 12,
   "metadata": {},
   "outputs": [],
   "source": [
    "ohe = OneHotEncoder(handle_unknown='ignore', categorical_features=None)\n",
    "ohe.fit(dataset_classes)\n",
    "labels_ohe = ohe.transform(label_list).toarray()\n",
    "\n",
    "data = np.array(data)\n",
    "labels = np.array(labels)"
   ]
  },
  {
   "cell_type": "markdown",
   "metadata": {},
   "source": [
    "## Split the data"
   ]
  },
  {
   "cell_type": "code",
   "execution_count": 13,
   "metadata": {},
   "outputs": [
    {
     "name": "stdout",
     "output_type": "stream",
     "text": [
      "(29260, 28, 28, 1)\n",
      "(7316, 28, 28, 1)\n",
      "(29260, 36)\n",
      "(7316, 36)\n"
     ]
    }
   ],
   "source": [
    "X_train, X_test, y_train, y_test = train_test_split(data, labels_ohe, test_size=0.20, random_state=42)\n",
    "\n",
    "X_train = X_train.reshape(29260,28,28,1)\n",
    "X_test = X_test.reshape(7316,28,28,1)\n",
    "\n",
    "print(X_train.shape)\n",
    "print(X_test.shape)\n",
    "print(y_train.shape)\n",
    "print(y_test.shape)"
   ]
  },
  {
   "cell_type": "markdown",
   "metadata": {},
   "source": [
    "## CNN model"
   ]
  },
  {
   "cell_type": "code",
   "execution_count": 14,
   "metadata": {},
   "outputs": [
    {
     "name": "stdout",
     "output_type": "stream",
     "text": [
      "Model: \"sequential_1\"\n",
      "_________________________________________________________________\n",
      "Layer (type)                 Output Shape              Param #   \n",
      "=================================================================\n",
      "conv2d_1 (Conv2D)            (None, 28, 28, 32)        320       \n",
      "_________________________________________________________________\n",
      "conv2d_2 (Conv2D)            (None, 26, 26, 32)        9248      \n",
      "_________________________________________________________________\n",
      "max_pooling2d_1 (MaxPooling2 (None, 13, 13, 32)        0         \n",
      "_________________________________________________________________\n",
      "dropout_1 (Dropout)          (None, 13, 13, 32)        0         \n",
      "_________________________________________________________________\n",
      "conv2d_3 (Conv2D)            (None, 13, 13, 64)        18496     \n",
      "_________________________________________________________________\n",
      "conv2d_4 (Conv2D)            (None, 11, 11, 64)        36928     \n",
      "_________________________________________________________________\n",
      "max_pooling2d_2 (MaxPooling2 (None, 5, 5, 64)          0         \n",
      "_________________________________________________________________\n",
      "dropout_2 (Dropout)          (None, 5, 5, 64)          0         \n",
      "_________________________________________________________________\n",
      "conv2d_5 (Conv2D)            (None, 5, 5, 64)          36928     \n",
      "_________________________________________________________________\n",
      "conv2d_6 (Conv2D)            (None, 3, 3, 64)          36928     \n",
      "_________________________________________________________________\n",
      "max_pooling2d_3 (MaxPooling2 (None, 1, 1, 64)          0         \n",
      "_________________________________________________________________\n",
      "dropout_3 (Dropout)          (None, 1, 1, 64)          0         \n",
      "_________________________________________________________________\n",
      "flatten_1 (Flatten)          (None, 64)                0         \n",
      "_________________________________________________________________\n",
      "dense_1 (Dense)              (None, 512)               33280     \n",
      "_________________________________________________________________\n",
      "dropout_4 (Dropout)          (None, 512)               0         \n",
      "_________________________________________________________________\n",
      "dense_2 (Dense)              (None, 36)                18468     \n",
      "=================================================================\n",
      "Total params: 190,596\n",
      "Trainable params: 190,596\n",
      "Non-trainable params: 0\n",
      "_________________________________________________________________\n",
      "None\n"
     ]
    }
   ],
   "source": [
    "model = Sequential()\n",
    "model.add(Conv2D(32, (3, 3), padding='same', activation='relu', input_shape=(28,28,1)))\n",
    "model.add(Conv2D(32, (3, 3), activation='relu'))\n",
    "model.add(MaxPooling2D(pool_size=(2, 2)))\n",
    "model.add(Dropout(0.25))\n",
    "\n",
    "model.add(Conv2D(64, (3, 3), padding='same', activation='relu'))\n",
    "model.add(Conv2D(64, (3, 3), activation='relu'))\n",
    "model.add(MaxPooling2D(pool_size=(2, 2)))\n",
    "model.add(Dropout(0.25))\n",
    "\n",
    "model.add(Conv2D(64, (3, 3), padding='same', activation='relu'))\n",
    "model.add(Conv2D(64, (3, 3), activation='relu'))\n",
    "model.add(MaxPooling2D(pool_size=(2, 2)))\n",
    "model.add(Dropout(0.25))\n",
    "\n",
    "model.add(Flatten())\n",
    "model.add(Dense(512, activation='relu'))\n",
    "model.add(Dropout(0.5))\n",
    "model.add(Dense(36, activation='softmax'))\n",
    "\n",
    "print(model.summary())"
   ]
  },
  {
   "cell_type": "code",
   "execution_count": 15,
   "metadata": {},
   "outputs": [
    {
     "name": "stdout",
     "output_type": "stream",
     "text": [
      "Train on 29260 samples, validate on 7316 samples\n",
      "Epoch 1/20\n",
      "29260/29260 [==============================] - 105s 4ms/step - loss: 2.2988 - accuracy: 0.3543 - val_loss: 0.4335 - val_accuracy: 0.8788\n",
      "Epoch 2/20\n",
      "29260/29260 [==============================] - 102s 3ms/step - loss: 0.6600 - accuracy: 0.8089 - val_loss: 0.2654 - val_accuracy: 0.9262\n",
      "Epoch 3/20\n",
      "29260/29260 [==============================] - 103s 4ms/step - loss: 0.4473 - accuracy: 0.8722 - val_loss: 0.2160 - val_accuracy: 0.9390\n",
      "Epoch 4/20\n",
      "29260/29260 [==============================] - 114s 4ms/step - loss: 0.3673 - accuracy: 0.8932 - val_loss: 0.1941 - val_accuracy: 0.9430\n",
      "Epoch 5/20\n",
      "29260/29260 [==============================] - 108s 4ms/step - loss: 0.3176 - accuracy: 0.9066 - val_loss: 0.1832 - val_accuracy: 0.9481\n",
      "Epoch 6/20\n",
      "29260/29260 [==============================] - 91s 3ms/step - loss: 0.2855 - accuracy: 0.9161 - val_loss: 0.1644 - val_accuracy: 0.9519\n",
      "Epoch 7/20\n",
      "29260/29260 [==============================] - 90s 3ms/step - loss: 0.2643 - accuracy: 0.9207 - val_loss: 0.1534 - val_accuracy: 0.9539\n",
      "Epoch 8/20\n",
      "29260/29260 [==============================] - 89s 3ms/step - loss: 0.2429 - accuracy: 0.9282 - val_loss: 0.1526 - val_accuracy: 0.9564\n",
      "Epoch 9/20\n",
      "29260/29260 [==============================] - 109s 4ms/step - loss: 0.2283 - accuracy: 0.9310 - val_loss: 0.1396 - val_accuracy: 0.9569\n",
      "Epoch 10/20\n",
      "29260/29260 [==============================] - 133s 5ms/step - loss: 0.2172 - accuracy: 0.9340 - val_loss: 0.1362 - val_accuracy: 0.9578\n",
      "Epoch 11/20\n",
      "29260/29260 [==============================] - 133s 5ms/step - loss: 0.2094 - accuracy: 0.9369 - val_loss: 0.1242 - val_accuracy: 0.9612\n",
      "Epoch 12/20\n",
      "29260/29260 [==============================] - 144s 5ms/step - loss: 0.1969 - accuracy: 0.9391 - val_loss: 0.1263 - val_accuracy: 0.9613\n",
      "Epoch 13/20\n",
      "29260/29260 [==============================] - 112s 4ms/step - loss: 0.1908 - accuracy: 0.9419 - val_loss: 0.1191 - val_accuracy: 0.9623\n",
      "Epoch 14/20\n",
      "29260/29260 [==============================] - 86s 3ms/step - loss: 0.1903 - accuracy: 0.9416 - val_loss: 0.1234 - val_accuracy: 0.9628\n",
      "Epoch 15/20\n",
      "29260/29260 [==============================] - 83s 3ms/step - loss: 0.1802 - accuracy: 0.9450 - val_loss: 0.1243 - val_accuracy: 0.9634\n",
      "Epoch 16/20\n",
      "29260/29260 [==============================] - 86s 3ms/step - loss: 0.1821 - accuracy: 0.9451 - val_loss: 0.1111 - val_accuracy: 0.9680\n",
      "Epoch 17/20\n",
      "29260/29260 [==============================] - 87s 3ms/step - loss: 0.1750 - accuracy: 0.9468 - val_loss: 0.1124 - val_accuracy: 0.9649\n",
      "Epoch 18/20\n",
      "29260/29260 [==============================] - 88s 3ms/step - loss: 0.1720 - accuracy: 0.9478 - val_loss: 0.1127 - val_accuracy: 0.9650\n",
      "Epoch 19/20\n",
      "29260/29260 [==============================] - 84s 3ms/step - loss: 0.1657 - accuracy: 0.9492 - val_loss: 0.1069 - val_accuracy: 0.9665\n",
      "Epoch 20/20\n",
      "29260/29260 [==============================] - 84s 3ms/step - loss: 0.1574 - accuracy: 0.9508 - val_loss: 0.1100 - val_accuracy: 0.9664\n"
     ]
    }
   ],
   "source": [
    "model.compile(loss='categorical_crossentropy', optimizer='adam', metrics=['accuracy'])\n",
    "history = model.fit(X_train, y_train,validation_data=(X_test, y_test), epochs=20, batch_size=64)"
   ]
  },
  {
   "cell_type": "code",
   "execution_count": 16,
   "metadata": {},
   "outputs": [],
   "source": [
    "model.save('cnn_classifierNew.h5')"
   ]
  },
  {
   "cell_type": "markdown",
   "metadata": {},
   "source": [
    "## Visualization"
   ]
  },
  {
   "cell_type": "code",
   "execution_count": 19,
   "metadata": {},
   "outputs": [
    {
     "data": {
      "text/plain": [
       "<matplotlib.legend.Legend at 0x24afaad9e08>"
      ]
     },
     "execution_count": 19,
     "metadata": {},
     "output_type": "execute_result"
    },
    {
     "data": {
      "image/png": "[encoded data removed]",
      "text/plain": [
       "<Figure size 576x432 with 1 Axes>"
      ]
     },
     "metadata": {
      "needs_background": "light"
     },
     "output_type": "display_data"
    }
   ],
   "source": [
    "plt.figure(figsize=[8, 6])\n",
    "plt.plot(history.history['accuracy'])\n",
    "plt.plot(history.history['val_accuracy'])\n",
    "plt.title('Model accuracy')\n",
    "plt.ylabel('Accuracy')\n",
    "plt.xlabel('Epoch')\n",
    "plt.legend(['Train', 'Test'], loc='upper left')"
   ]
  },
  {
   "cell_type": "code",
   "execution_count": 20,
   "metadata": {},
   "outputs": [
    {
     "data": {
      "image/png": "[encoded data removed]",
      "text/plain": [
       "<Figure size 576x432 with 1 Axes>"
      ]
     },
     "metadata": {
      "needs_background": "light"
     },
     "output_type": "display_data"
    }
   ],
   "source": [
    "plt.figure(figsize=[8, 6])\n",
    "plt.plot(history.history['loss'])\n",
    "plt.plot(history.history['val_loss'])\n",
    "plt.title('Model loss')\n",
    "plt.ylabel('Loss')\n",
    "plt.xlabel('Epoch')\n",
    "plt.legend(['Train', 'Test'], loc='upper left')\n",
    "\n",
    "plt.show()"
   ]
  },
  {
   "cell_type": "markdown",
   "metadata": {},
   "source": [
    "## Digit Visulization"
   ]
  },
  {
   "cell_type": "markdown",
   "metadata": {},
   "source": [
    "### Get_contour_precedence"
   ]
  },
  {
   "cell_type": "code",
   "execution_count": 7,
   "metadata": {},
   "outputs": [],
   "source": [
    "def get_contour_precedence(contour, cols):\n",
    "    tolerance_factor = 10\n",
    "    origin = cv2.boundingRect(contour)\n",
    "    return ((origin[1] // tolerance_factor) * tolerance_factor) * cols + origin[0]"
   ]
  },
  {
   "cell_type": "markdown",
   "metadata": {},
   "source": [
    "### Square"
   ]
  },
  {
   "cell_type": "code",
   "execution_count": 8,
   "metadata": {},
   "outputs": [],
   "source": [
    "def square(img):\n",
    "    \"\"\"\n",
    "    This function resize non square image to square one (height == width)\n",
    "    :param img: input image as numpy array\n",
    "    :return: numpy array\n",
    "    \"\"\"\n",
    "    # image after making height equal to width\n",
    "    squared_image = img\n",
    "\n",
    "    # Get image height and width\n",
    "    h = img.shape[0]\n",
    "    w = img.shape[1]\n",
    "\n",
    "    # In case height superior than width\n",
    "    if h > w:\n",
    "        diff = h-w\n",
    "        if diff % 2 == 0:\n",
    "            x1 = np.zeros(shape=(h, diff//2))\n",
    "            x2 = x1\n",
    "        else:\n",
    "            x1 = np.zeros(shape=(h, diff//2))\n",
    "            x2 = np.zeros(shape=(h, (diff//2)+1))\n",
    "\n",
    "        squared_image = np.concatenate((x1, img, x2), axis=1)\n",
    "\n",
    "    # In case height inferior than width\n",
    "    if h < w:\n",
    "        diff = w-h\n",
    "        if diff % 2 == 0:\n",
    "            x1 = np.zeros(shape=(diff//2, w))\n",
    "            x2 = x1\n",
    "        else:\n",
    "            x1 = np.zeros(shape=(diff//2, w))\n",
    "            x2 = np.zeros(shape=((diff//2)+1, w))\n",
    "\n",
    "        squared_image = np.concatenate((x1, img, x2), axis=0)\n",
    "\n",
    "    return squared_image"
   ]
  },
  {
   "cell_type": "markdown",
   "metadata": {},
   "source": [
    "### Sort"
   ]
  },
  {
   "cell_type": "code",
   "execution_count": 9,
   "metadata": {},
   "outputs": [],
   "source": [
    "def sort(vector):\n",
    "    sort = True\n",
    "    while (sort == True):\n",
    "\n",
    "        sort = False\n",
    "        for i in range(len(vector) - 1):\n",
    "            x_1 = vector[i][0]\n",
    "            y_1 = vector[i][1]\n",
    "\n",
    "            for j in range(i + 1, len(vector)):\n",
    "\n",
    "                x_2 = vector[j][0]\n",
    "                y_2 = vector[j][1]\n",
    "\n",
    "                if (x_1 >= x_2 and y_2 >= y_1):\n",
    "                    tmp = vector[i]\n",
    "                    vector[i] = vector[j]\n",
    "                    vector[j] = tmp\n",
    "                    sort = True\n",
    "\n",
    "                elif (x_1 < x_2 and y_2 > y_1):\n",
    "                    tmp = vector[i]\n",
    "                    vector[i] = vector[j]\n",
    "                    vector[j] = tmp\n",
    "                    sort = True\n",
    "    return vector"
   ]
  },
  {
   "cell_type": "markdown",
   "metadata": {},
   "source": [
    "### Plate_segmentation"
   ]
  },
  {
   "cell_type": "code",
   "execution_count": 10,
   "metadata": {},
   "outputs": [],
   "source": [
    "def plate_segmentation(img_file_path):\n",
    "\n",
    "    img = cv2.imread(img_file_path)\n",
    "    imgray = cv2.cvtColor(img, cv2.COLOR_BGR2GRAY)\n",
    "\n",
    "    height = img.shape[0]\n",
    "    width = img.shape[1]\n",
    "    area = height * width\n",
    "\n",
    "    scale1 = 0.001\n",
    "    scale2 = 0.1\n",
    "    area_condition1 = area * scale1\n",
    "    area_condition2 = area * scale2\n",
    "    # global thresholding\n",
    "    ret1,th1 = cv2.threshold(imgray,127,255,cv2.THRESH_BINARY)\n",
    "\n",
    "    # Otsu's thresholding\n",
    "    ret2,th2 = cv2.threshold(imgray,0,255,cv2.THRESH_BINARY+cv2.THRESH_OTSU)\n",
    "\n",
    "    # Otsu's thresholding after Gaussian filtering\n",
    "    blur = cv2.GaussianBlur(imgray,(5,5),0)\n",
    "    ret3,th3 = cv2.threshold(blur,0,255,cv2.THRESH_BINARY+cv2.THRESH_OTSU)\n",
    "\n",
    "    image, contours, hierarchy = cv2.findContours(th3, cv2.RETR_TREE, cv2.CHAIN_APPROX_SIMPLE)\n",
    "\n",
    "    # sort contours\n",
    "    contours = sorted(contours, key=cv2.contourArea, reverse=True)\n",
    "\n",
    "    cropped = []\n",
    "    for cnt in contours:\n",
    "        (x,y,w,h) = cv2.boundingRect(cnt)\n",
    "\n",
    "\n",
    "        if (w * h > area_condition1 and w * h < area_condition2 and w/h > 0.3 and h/w > 0.3):\n",
    "            cv2.drawContours(img, [cnt], 0, (0, 255, 0), 3)\n",
    "            cv2.rectangle(img, (x,y), (x+w,y+h), (255, 0, 0), 2)\n",
    "            c = th2[y:y+h,x:x+w]\n",
    "            c = np.array(c)\n",
    "            c = cv2.bitwise_not(c)\n",
    "            c = square(c)\n",
    "            c = cv2.resize(c,(28,28), interpolation = cv2.INTER_AREA)\n",
    "            cropped.append(c)\n",
    "    cv2.imwrite('detection.png', img)\n",
    "    return cropped"
   ]
  },
  {
   "cell_type": "markdown",
   "metadata": {},
   "source": [
    "# Predict"
   ]
  },
  {
   "cell_type": "code",
   "execution_count": 11,
   "metadata": {},
   "outputs": [],
   "source": [
    "# Import files"
   ]
  },
  {
   "cell_type": "markdown",
   "metadata": {},
   "source": [
    "## File Managment"
   ]
  },
  {
   "cell_type": "code",
   "execution_count": 12,
   "metadata": {},
   "outputs": [
    {
     "name": "stdout",
     "output_type": "stream",
     "text": [
      "WARNING:tensorflow:From C:\\Users\\kunal\\Anaconda3\\lib\\site-packages\\tensorflow_core\\python\\ops\\resource_variable_ops.py:1630: calling BaseResourceVariable.__init__ (from tensorflow.python.ops.resource_variable_ops) with constraint is deprecated and will be removed in a future version.\n",
      "Instructions for updating:\n",
      "If using Keras pass *_constraint arguments to layers.\n",
      "WARNING:tensorflow:From C:\\Users\\kunal\\Anaconda3\\lib\\site-packages\\keras\\backend\\tensorflow_backend.py:4070: The name tf.nn.max_pool is deprecated. Please use tf.nn.max_pool2d instead.\n",
      "\n",
      "WARNING:tensorflow:From C:\\Users\\kunal\\Anaconda3\\lib\\site-packages\\keras\\backend\\tensorflow_backend.py:422: The name tf.global_variables is deprecated. Please use tf.compat.v1.global_variables instead.\n",
      "\n"
     ]
    }
   ],
   "source": [
    "# Load model\n",
    "model = load_model('cnn_classifierNew.h5')"
   ]
  },
  {
   "cell_type": "markdown",
   "metadata": {},
   "source": [
    "## Detect chars"
   ]
  },
  {
   "cell_type": "code",
   "execution_count": 13,
   "metadata": {},
   "outputs": [],
   "source": [
    "digits = plate_segmentation('demo/plates/NEW JERSEY.jpg')"
   ]
  },
  {
   "cell_type": "markdown",
   "metadata": {},
   "source": [
    "## Predict"
   ]
  },
  {
   "cell_type": "code",
   "execution_count": 14,
   "metadata": {},
   "outputs": [
    {
     "name": "stdout",
     "output_type": "stream",
     "text": [
      "Prediction : H , Precision : 0.9934993\n",
      "Prediction : 4 , Precision : 0.8237023\n",
      "Prediction : W , Precision : 0.99699855\n",
      "Prediction : V , Precision : 0.9978168\n",
      "Prediction : T , Precision : 0.6953097\n",
      "Prediction : L , Precision : 0.9895494\n",
      "Prediction : I , Precision : 0.7803276\n",
      "Prediction : 8 , Precision : 0.7524391\n",
      "Prediction : W , Precision : 0.9999999\n",
      "Prediction : Y , Precision : 0.99958414\n",
      "Prediction : S , Precision : 0.99738246\n",
      "Prediction : T , Precision : 0.9168726\n",
      "Prediction : W , Precision : 0.9816836\n",
      "Prediction : 3 , Precision : 0.91920984\n",
      "Prediction : U , Precision : 0.6269229\n",
      "Prediction : H , Precision : 0.77861625\n",
      "Prediction : S , Precision : 0.7983564\n",
      "Prediction : S , Precision : 0.8503648\n",
      "Prediction : U , Precision : 0.71716887\n",
      "Prediction : N , Precision : 0.644317\n",
      "H4WVTLI8WYSTW3UHSSUN\n"
     ]
    }
   ],
   "source": [
    "final_Array = []\n",
    "for d in digits:\n",
    "\n",
    "    d = np.reshape(d, (1,28,28,1))\n",
    "    out = model.predict(d)\n",
    "    # Get max pre arg\n",
    "    p = []\n",
    "    precision = 0\n",
    "    for i in range(len(out)):\n",
    "        z = np.zeros(36)\n",
    "        z[np.argmax(out[i])] = 1.\n",
    "        precision = max(out[i])\n",
    "        p.append(z)\n",
    "    prediction = np.array(p)\n",
    "\n",
    "    # Inverse one hot encoding\n",
    "    alphabets = ['0','1','2','3','4','5','6','7','8','9','A','B','C','D','E','F','G','H','I','J','K','L','M','N','O','P','Q','R','S','T','U','V','W','X','Y','Z']\n",
    "    classes = []\n",
    "    for a in alphabets:\n",
    "        classes.append([a])\n",
    "    ohe = OneHotEncoder(handle_unknown='ignore', categorical_features=None)\n",
    "    ohe.fit(classes)\n",
    "    pred = ohe.inverse_transform(prediction)\n",
    "    if precision > 0.6:\n",
    "        final_Array.append(pred)\n",
    "    if precision > 0.6:\n",
    "        print('Prediction : ' + str(pred[0][0]) + ' , Precision : ' + str(precision))\n",
    "finalstring = \"\"\n",
    "for i in final_Array:\n",
    "    finalstring += i[0][0]\n",
    "print(finalstring)"
   ]
  },
  {
   "cell_type": "code",
   "execution_count": 1,
   "metadata": {},
   "outputs": [],
   "source": [
    "from PIL import Image\n",
    "import pytesseract"
   ]
  },
  {
   "cell_type": "code",
   "execution_count": 2,
   "metadata": {},
   "outputs": [
    {
     "ename": "FileNotFoundError",
     "evalue": "[Errno 2] No such file or directory: 'demo/plates/NEW JERSEY.jpg'",
     "output_type": "error",
     "traceback": [
      "\u001b[1;31m---------------------------------------------------------------------------\u001b[0m",
      "\u001b[1;31mFileNotFoundError\u001b[0m                         Traceback (most recent call last)",
      "\u001b[1;32m<ipython-input-2-a1b78ed4fe6d>\u001b[0m in \u001b[0;36m<module>\u001b[1;34m\u001b[0m\n\u001b[0;32m      1\u001b[0m \u001b[0mOCRPIC\u001b[0m \u001b[1;33m=\u001b[0m \u001b[1;34m'demo/plates/NEW JERSEY.jpg'\u001b[0m\u001b[1;33m\u001b[0m\u001b[1;33m\u001b[0m\u001b[0m\n\u001b[1;32m----> 2\u001b[1;33m \u001b[0mvalue\u001b[0m\u001b[1;33m=\u001b[0m\u001b[0mImage\u001b[0m\u001b[1;33m.\u001b[0m\u001b[0mopen\u001b[0m\u001b[1;33m(\u001b[0m\u001b[0mOCRPIC\u001b[0m\u001b[1;33m)\u001b[0m\u001b[1;33m\u001b[0m\u001b[1;33m\u001b[0m\u001b[0m\n\u001b[0m\u001b[0;32m      3\u001b[0m \u001b[0mpytesseract\u001b[0m\u001b[1;33m.\u001b[0m\u001b[0mpytesseract\u001b[0m\u001b[1;33m.\u001b[0m\u001b[0mtesseract_cmd\u001b[0m \u001b[1;33m=\u001b[0m \u001b[1;34mr\"C:\\Program Files (x86)\\Tesseract-OCR\\tesseract.exe\"\u001b[0m\u001b[1;33m\u001b[0m\u001b[1;33m\u001b[0m\u001b[0m\n\u001b[0;32m      4\u001b[0m \u001b[0mtext\u001b[0m \u001b[1;33m=\u001b[0m \u001b[0mpytesseract\u001b[0m\u001b[1;33m.\u001b[0m\u001b[0mimage_to_string\u001b[0m\u001b[1;33m(\u001b[0m\u001b[0mvalue\u001b[0m\u001b[1;33m,\u001b[0m \u001b[0mconfig\u001b[0m\u001b[1;33m=\u001b[0m\u001b[1;34m''\u001b[0m\u001b[1;33m)\u001b[0m\u001b[1;33m\u001b[0m\u001b[1;33m\u001b[0m\u001b[0m\n",
      "\u001b[1;32m~\\Anaconda3\\lib\\site-packages\\PIL\\Image.py\u001b[0m in \u001b[0;36mopen\u001b[1;34m(fp, mode)\u001b[0m\n\u001b[0;32m   2764\u001b[0m \u001b[1;33m\u001b[0m\u001b[0m\n\u001b[0;32m   2765\u001b[0m     \u001b[1;32mif\u001b[0m \u001b[0mfilename\u001b[0m\u001b[1;33m:\u001b[0m\u001b[1;33m\u001b[0m\u001b[1;33m\u001b[0m\u001b[0m\n\u001b[1;32m-> 2766\u001b[1;33m         \u001b[0mfp\u001b[0m \u001b[1;33m=\u001b[0m \u001b[0mbuiltins\u001b[0m\u001b[1;33m.\u001b[0m\u001b[0mopen\u001b[0m\u001b[1;33m(\u001b[0m\u001b[0mfilename\u001b[0m\u001b[1;33m,\u001b[0m \u001b[1;34m\"rb\"\u001b[0m\u001b[1;33m)\u001b[0m\u001b[1;33m\u001b[0m\u001b[1;33m\u001b[0m\u001b[0m\n\u001b[0m\u001b[0;32m   2767\u001b[0m         \u001b[0mexclusive_fp\u001b[0m \u001b[1;33m=\u001b[0m \u001b[1;32mTrue\u001b[0m\u001b[1;33m\u001b[0m\u001b[1;33m\u001b[0m\u001b[0m\n\u001b[0;32m   2768\u001b[0m \u001b[1;33m\u001b[0m\u001b[0m\n",
      "\u001b[1;31mFileNotFoundError\u001b[0m: [Errno 2] No such file or directory: 'demo/plates/NEW JERSEY.jpg'"
     ]
    }
   ],
   "source": [
    "OCRPIC = 'demo/plates/NEW JERSEY.jpg'\n",
    "value=Image.open(OCRPIC)\n",
    "pytesseract.pytesseract.tesseract_cmd = r\"C:\\Program Files (x86)\\Tesseract-OCR\\tesseract.exe\"\n",
    "text = pytesseract.image_to_string(value, config='')"
   ]
  },
  {
   "cell_type": "code",
   "execution_count": 71,
   "metadata": {},
   "outputs": [
    {
     "data": {
      "text/plain": [
       "'Ne teas -Benz\\n\\nWw Jersey\\n\\nVLW48T\\n\\nRAY CATENA- EDISON, NJ'"
      ]
     },
     "execution_count": 71,
     "metadata": {},
     "output_type": "execute_result"
    }
   ],
   "source": [
    "text"
   ]
  },
  {
   "cell_type": "code",
   "execution_count": 78,
   "metadata": {},
   "outputs": [
    {
     "name": "stdout",
     "output_type": "stream",
     "text": [
      "alabama.jpg\n",
      "—@\\ LABAMA®@ 3\n",
      "\n",
      "801835]\n",
      "\n",
      "+ GODIBLESS, AMERICAS as age\"\n",
      "\n",
      "alaska.jpg\n",
      "229-432-9700 —\n",
      "\n",
      "arizona.jpg\n",
      "\n",
      "\n",
      "arkansas.jpg\n",
      "\n",
      "\n",
      "california.jpg\n",
      "\n",
      "\n",
      "colorado.jpg\n",
      "\n",
      "\n",
      "connecticut.jpg\n",
      "\n",
      "\n",
      "DELAWARE.jpg\n",
      "a Pars\n",
      "\n",
      "DISTRICT OF COLUMBIA.jpg\n",
      "= © WASHINGTON, DC © sci\n",
      "\n",
      "TAXATION WITHOUT REPRESENATION\n",
      "\n",
      "FLORIDA.jpg\n",
      "\n",
      "\n",
      "GEORGIA.jpg\n",
      "\n",
      "\n",
      "HAWAII.jpg\n",
      "\n",
      "\n",
      "IDAHO.jpg\n",
      "\n",
      "\n",
      "ILLINOIS.jpg\n",
      "\n",
      "\n",
      "INDIANA.jpg\n",
      "app® INDIANA SPwr\n",
      "\n",
      "2073840\n",
      "\n",
      "© TheCrossroads«\n",
      "\n",
      "IOWA.jpg\n",
      "aonwusarenine\n",
      "\n",
      "KANSAS.jpg\n",
      "\n",
      "\n",
      "KENTUCKY.jpg\n",
      "Kentucky ©\n",
      "\n",
      "UNBRIDLED SPIRIT.\n",
      "\n",
      "    \n",
      "\n",
      "FAYETTE —\n",
      "\n",
      "LOUISIANA.jpg\n",
      "e\n",
      "\n",
      "Lunn\n",
      "\n",
      "MAINE.jpg\n",
      "\n",
      "\n",
      "MARYLAND.jpg\n",
      "OR Ady tb cae eee\n",
      "\n",
      "MASSACHUSETTS.jpg\n",
      "\n",
      "\n",
      "MICHIGAN.jpg\n",
      "\n",
      "\n",
      "MINNESOTA.jpg\n",
      "\n",
      "\n",
      "MISSISSIPPI.jpg\n",
      "\n",
      "\n",
      "MISSOURI.jpg\n",
      "\n",
      "\n",
      "MONTANA.jpg\n",
      "\n",
      "\n",
      "NEBRASKA.jpg\n",
      "\n",
      "\n",
      "NEVADA.jpg\n",
      "\n",
      "\n",
      "NEW HAMPSHIRE.jpg\n",
      "\n",
      "\n",
      "NEW JERSEY.jpg\n",
      "Ne teas -Benz\n",
      "\n",
      "Ww Jersey\n",
      "\n",
      "VLW48T\n",
      "\n",
      "RAY CATENA- EDISON, NJ\n",
      "\n",
      "NEW MEXICO.jpg\n",
      "\n",
      "\n",
      "NEW YORK.jpg\n",
      "IRE STAL Lie\n",
      "\n",
      "NORTH CAROLINA.jpg\n",
      "UK \\<\n",
      "NORTH. CAROLINA.\n",
      "\n",
      "NORTH DAKOTA.jpg\n",
      "aoe LE Tah\n",
      "\n",
      "Wa YQOF\n",
      "\n",
      "    \n",
      " \n",
      "\n",
      "   \n",
      "\n",
      "Lee ree 2 Healing.\n",
      "The Art of Caring.\n",
      "\n",
      "OHIO.jpg\n",
      "\n",
      "\n",
      "OKLAHOMA.jpg\n",
      "\n",
      "\n",
      "OREGON.jpg\n",
      "\n",
      "\n",
      "PENNSYLVANIA.jpg\n",
      "HVY*5/74\n",
      "\n",
      "le visitPA.com .\n",
      "\n",
      "RHODE ISLAND.jpg\n",
      "\n",
      "\n",
      "SOUTH CAROLINA.jpg\n",
      "Soutti' Carolina ao\n",
      "\n",
      "SOUTH DAKOTA.jpg\n",
      "ciellliel as -\n",
      "\n",
      "TENNESSEE.jpg\n",
      "APR® Jez Jerrciiee © RRR\n",
      "\n",
      "Ge, LOUDON .\n",
      "\n",
      "a8 = Ph\n",
      "\n",
      "TEXAS.jpg\n",
      "\n",
      "\n",
      "UTAH.jpg\n",
      "LIFE -EDeVATED\n",
      "\n",
      "@ creKTEST SNOW ON EARTH @\n",
      "\n",
      "VERMONT.jpg\n",
      "\n",
      "\n",
      "VIRGINIA.jpg\n",
      "VIRGINIA IS FOR LOVERS:\n",
      "\n",
      "_Virginia. erg Be\n",
      "\n",
      "WASHINGTON.jpg\n",
      "AAT5827\n",
      "\n",
      "e@ EVERGREEN STATE @\n",
      "\n",
      "WEST VIRGINIA.jpg\n",
      "VEN\n",
      "\n",
      "—_ Wonder ‘al ee\n",
      "\n",
      "WISCONSIN.jpg\n",
      "WISCONSIN oy z<\"at..\n",
      "\n",
      "107-SHY\n",
      "\n",
      "=| JUL @America’s Dairyland@ de)\n",
      "\n",
      "WYOMING.jpg\n",
      "= 6347\n",
      "\n"
     ]
    }
   ],
   "source": [
    "for i in os.listdir('demo/plates'):\n",
    "    thing = 'demo/plates/'+str(i)\n",
    "    print(i)\n",
    "    OCRPIC = thing\n",
    "    value=Image.open(OCRPIC)\n",
    "    pytesseract.pytesseract.tesseract_cmd = r\"C:\\Program Files (x86)\\Tesseract-OCR\\tesseract.exe\"\n",
    "    text = pytesseract.image_to_string(value, config='')\n",
    "    print(text)\n",
    "    print(\"\")"
   ]
  },
  {
   "cell_type": "code",
   "execution_count": 10,
   "metadata": {},
   "outputs": [],
   "source": [
    "OCRPIC = '/Users/kunal/Documents/Cardetection/RecognizeLisencePlate/demo/plates/alabama.jpg'\n",
    "value=Image.open(OCRPIC)\n",
    "pytesseract.pytesseract.tesseract_cmd = r\"C:\\Program Files (x86)\\Tesseract-OCR\\tesseract.exe\"\n",
    "text = pytesseract.image_to_string(value, config='')"
   ]
  },
  {
   "cell_type": "code",
   "execution_count": 11,
   "metadata": {},
   "outputs": [
    {
     "data": {
      "text/plain": [
       "'—@\\\\ LABAMA®@ 3\\n\\n801835]\\n\\n+ GODIBLESS, AMERICAS as age\"'"
      ]
     },
     "execution_count": 11,
     "metadata": {},
     "output_type": "execute_result"
    }
   ],
   "source": [
    "text"
   ]
  },
  {
   "cell_type": "code",
   "execution_count": null,
   "metadata": {},
   "outputs": [],
   "source": []
  },
  {
   "cell_type": "code",
   "execution_count": null,
   "metadata": {},
   "outputs": [],
   "source": []
  },
  {
   "cell_type": "code",
   "execution_count": null,
   "metadata": {},
   "outputs": [],
   "source": []
  },
  {
   "cell_type": "code",
   "execution_count": null,
   "metadata": {},
   "outputs": [],
   "source": []
  },
  {
   "cell_type": "code",
   "execution_count": 36,
   "metadata": {},
   "outputs": [],
   "source": [
    "import os"
   ]
  },
  {
   "cell_type": "code",
   "execution_count": 37,
   "metadata": {},
   "outputs": [],
   "source": [
    "os.chdir('/Users/kunal/Documents/Cardetection/')"
   ]
  },
  {
   "cell_type": "code",
   "execution_count": 39,
   "metadata": {},
   "outputs": [],
   "source": [
    "from imageai.Detection import ObjectDetection\n",
    "import os"
   ]
  },
  {
   "cell_type": "code",
   "execution_count": 40,
   "metadata": {},
   "outputs": [],
   "source": [
    "execution_path = '/Users/kunal/Documents/Cardetection/'\n"
   ]
  },
  {
   "cell_type": "code",
   "execution_count": 41,
   "metadata": {},
   "outputs": [
    {
     "name": "stdout",
     "output_type": "stream",
     "text": [
      "tracking <tf.Variable 'Variable_5:0' shape=(9, 4) dtype=float32> anchors\n",
      "tracking <tf.Variable 'Variable_6:0' shape=(9, 4) dtype=float32> anchors\n",
      "tracking <tf.Variable 'Variable_7:0' shape=(9, 4) dtype=float32> anchors\n",
      "tracking <tf.Variable 'Variable_8:0' shape=(9, 4) dtype=float32> anchors\n",
      "tracking <tf.Variable 'Variable_9:0' shape=(9, 4) dtype=float32> anchors\n"
     ]
    }
   ],
   "source": [
    "detector = ObjectDetection()\n",
    "detector.setModelTypeAsRetinaNet()\n",
    "detector.setModelPath( '/Users/kunal/Documents/Cardetection/resnet50_coco_best_v2.0.1.h5')\n",
    "detector.loadModel()"
   ]
  },
  {
   "cell_type": "code",
   "execution_count": 43,
   "metadata": {},
   "outputs": [],
   "source": [
    "detections = detector.detectObjectsFromImage(input_image= '/Users/kunal/Documents/Cardetection/RecognizeLisencePlate/demo/plates/alabama.jpg', output_image_path='/Users/kunal/Documents/Cardetection/RecognizeLisencePlate/demo/plates/imagenew.jpg')"
   ]
  },
  {
   "cell_type": "code",
   "execution_count": 44,
   "metadata": {},
   "outputs": [],
   "source": [
    "for eachObject in detections:\n",
    "    print(eachObject[\"name\"] , \" : \" , eachObject[\"percentage_probability\"] )"
   ]
  },
  {
   "cell_type": "code",
   "execution_count": 45,
   "metadata": {},
   "outputs": [
    {
     "data": {
      "text/plain": [
       "[]"
      ]
     },
     "execution_count": 45,
     "metadata": {},
     "output_type": "execute_result"
    }
   ],
   "source": []
  },
  {
   "cell_type": "code",
   "execution_count": null,
   "metadata": {},
   "outputs": [],
   "source": []
  },
  {
   "cell_type": "code",
   "execution_count": null,
   "metadata": {},
   "outputs": [],
   "source": []
  },
  {
   "cell_type": "code",
   "execution_count": null,
   "metadata": {},
   "outputs": [],
   "source": []
  },
  {
   "cell_type": "code",
   "execution_count": null,
   "metadata": {},
   "outputs": [],
   "source": []
  },
  {
   "cell_type": "code",
   "execution_count": null,
   "metadata": {},
   "outputs": [],
   "source": []
  },
  {
   "cell_type": "markdown",
   "metadata": {},
   "source": []
  },
  {
   "cell_type": "code",
   "execution_count": null,
   "metadata": {},
   "outputs": [],
   "source": []
  }
 ],
 "metadata": {
  "kernelspec": {
   "display_name": "Python 3",
   "language": "python",
   "name": "python3"
  },
  "language_info": {
   "codemirror_mode": {
    "name": "ipython",
    "version": 3
   },
   "file_extension": ".py",
   "mimetype": "text/x-python",
   "name": "python",
   "nbconvert_exporter": "python",
   "pygments_lexer": "ipython3",
   "version": "3.7.4"
  },
  "toc": {
   "base_numbering": 1,
   "nav_menu": {},
   "number_sections": true,
   "sideBar": true,
   "skip_h1_title": false,
   "title_cell": "Table of Contents",
   "title_sidebar": "Contents",
   "toc_cell": false,
   "toc_position": {
    "height": "calc(100% - 180px)",
    "left": "10px",
    "top": "150px",
    "width": "165px"
   },
   "toc_section_display": true,
   "toc_window_display": true
  }
 },
 "nbformat": 4,
 "nbformat_minor": 2
}
